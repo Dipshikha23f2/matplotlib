{
  "nbformat": 4,
  "nbformat_minor": 0,
  "metadata": {
    "colab": {
      "provenance": []
    },
    "kernelspec": {
      "name": "python3",
      "display_name": "Python 3"
    },
    "language_info": {
      "name": "python"
    }
  },
  "cells": [
    {
      "cell_type": "markdown",
      "source": [
        "# NUMPY\n",
        "\n"
      ],
      "metadata": {
        "id": "RMSNwpzLjQNn"
      }
    },
    {
      "cell_type": "markdown",
      "source": [
        "# Creating Numpy (NP.array)"
      ],
      "metadata": {
        "id": "Bb2Q67whj2Ex"
      }
    },
    {
      "cell_type": "code",
      "execution_count": null,
      "metadata": {
        "id": "CIiJtK0ihyhs"
      },
      "outputs": [],
      "source": [
        "#NUMPY"
      ]
    },
    {
      "cell_type": "markdown",
      "source": [],
      "metadata": {
        "id": "C3cXPDsujKYg"
      }
    },
    {
      "cell_type": "code",
      "source": [
        "import numpy as np"
      ],
      "metadata": {
        "id": "-PhqJLqAjM8S"
      },
      "execution_count": null,
      "outputs": []
    },
    {
      "cell_type": "code",
      "source": [
        "a=np.array([1,2,3]) # in one-D (1-D)\n",
        "print(a)"
      ],
      "metadata": {
        "colab": {
          "base_uri": "https://localhost:8080/"
        },
        "id": "-GB-dLj7jnN6",
        "outputId": "2925e9d5-84c5-41a9-ca41-4c272c7091f4"
      },
      "execution_count": null,
      "outputs": [
        {
          "output_type": "stream",
          "name": "stdout",
          "text": [
            "[1 2 3]\n"
          ]
        }
      ]
    },
    {
      "cell_type": "code",
      "source": [
        "b=np.array([[1,2,3],[4,5,6]]) # in (2-D)\n",
        "print(b)"
      ],
      "metadata": {
        "colab": {
          "base_uri": "https://localhost:8080/"
        },
        "id": "6PmG_ufdnuCm",
        "outputId": "2a388af1-cc87-4eef-9073-8638cb24f7ac"
      },
      "execution_count": null,
      "outputs": [
        {
          "output_type": "stream",
          "name": "stdout",
          "text": [
            "[[1 2 3]\n",
            " [4 5 6]]\n"
          ]
        }
      ]
    },
    {
      "cell_type": "code",
      "source": [
        "c=np.array([[[1,2],[3,4],[5,6],[7,8]]]) # in 3-D\n",
        "print(c)"
      ],
      "metadata": {
        "colab": {
          "base_uri": "https://localhost:8080/"
        },
        "id": "P5N17xi-vz5v",
        "outputId": "d3f0149e-df17-4b10-f853-2f0ebfb665b5"
      },
      "execution_count": null,
      "outputs": [
        {
          "output_type": "stream",
          "name": "stdout",
          "text": [
            "[[[1 2]\n",
            "  [3 4]\n",
            "  [5 6]\n",
            "  [7 8]]]\n"
          ]
        }
      ]
    },
    {
      "cell_type": "code",
      "source": [
        "np.array([1,2,3],dtype=float)      #dtype(specifies the type)"
      ],
      "metadata": {
        "colab": {
          "base_uri": "https://localhost:8080/"
        },
        "id": "9d6uUfTBxShJ",
        "outputId": "b5e95d28-98fd-4c91-bc0f-2454b792c9cd"
      },
      "execution_count": null,
      "outputs": [
        {
          "output_type": "execute_result",
          "data": {
            "text/plain": [
              "array([1., 2., 3.])"
            ]
          },
          "metadata": {},
          "execution_count": 6
        }
      ]
    },
    {
      "cell_type": "code",
      "source": [
        "type(np.array([1,2,3]))"
      ],
      "metadata": {
        "colab": {
          "base_uri": "https://localhost:8080/"
        },
        "id": "BoaAsfmBzTGv",
        "outputId": "5f328b06-c87f-4109-b10c-44465f3d507b"
      },
      "execution_count": null,
      "outputs": [
        {
          "output_type": "execute_result",
          "data": {
            "text/plain": [
              "numpy.ndarray"
            ]
          },
          "metadata": {},
          "execution_count": 7
        }
      ]
    },
    {
      "cell_type": "code",
      "source": [
        "np.arange(1,11) #np.arange (working like python range)"
      ],
      "metadata": {
        "colab": {
          "base_uri": "https://localhost:8080/"
        },
        "id": "ocpetpBL0q8c",
        "outputId": "bac4a870-7a29-438a-a93b-d62b7c89480b"
      },
      "execution_count": null,
      "outputs": [
        {
          "output_type": "execute_result",
          "data": {
            "text/plain": [
              "array([ 1,  2,  3,  4,  5,  6,  7,  8,  9, 10])"
            ]
          },
          "metadata": {},
          "execution_count": 8
        }
      ]
    },
    {
      "cell_type": "code",
      "source": [
        "np.arange(1,11).reshape(2,5)  # reshape-given shape ko change kr deta hai"
      ],
      "metadata": {
        "colab": {
          "base_uri": "https://localhost:8080/"
        },
        "id": "IlYlZW4A1NFT",
        "outputId": "d6b115d0-fb3e-497b-dc8f-365fcc4ceb3c"
      },
      "execution_count": null,
      "outputs": [
        {
          "output_type": "execute_result",
          "data": {
            "text/plain": [
              "array([[ 1,  2,  3,  4,  5],\n",
              "       [ 6,  7,  8,  9, 10]])"
            ]
          },
          "metadata": {},
          "execution_count": 9
        }
      ]
    },
    {
      "cell_type": "code",
      "source": [
        "np.arange(1,11).reshape(5,2)"
      ],
      "metadata": {
        "colab": {
          "base_uri": "https://localhost:8080/"
        },
        "id": "xEbQqBsv1oNO",
        "outputId": "9f39a998-8a6a-4b2a-823b-12f796f37e59"
      },
      "execution_count": null,
      "outputs": [
        {
          "output_type": "execute_result",
          "data": {
            "text/plain": [
              "array([[ 1,  2],\n",
              "       [ 3,  4],\n",
              "       [ 5,  6],\n",
              "       [ 7,  8],\n",
              "       [ 9, 10]])"
            ]
          },
          "metadata": {},
          "execution_count": 10
        }
      ]
    },
    {
      "cell_type": "code",
      "source": [
        "# np.ones and np.zeros,np.random ( we can create numpy array) & if u want to initialize value anywhere then u can use (ones,zeros)\n",
        "np.ones((3,4))\n",
        "np.zeros((2,3))"
      ],
      "metadata": {
        "colab": {
          "base_uri": "https://localhost:8080/"
        },
        "id": "iEdIVRng14bF",
        "outputId": "dcda8701-19f1-428b-c971-df95c021ad33"
      },
      "execution_count": null,
      "outputs": [
        {
          "output_type": "execute_result",
          "data": {
            "text/plain": [
              "array([[0., 0., 0.],\n",
              "       [0., 0., 0.]])"
            ]
          },
          "metadata": {},
          "execution_count": 11
        }
      ]
    },
    {
      "cell_type": "code",
      "source": [
        "np.random.random((3,4))"
      ],
      "metadata": {
        "colab": {
          "base_uri": "https://localhost:8080/"
        },
        "id": "NlKY_Vx23Bf4",
        "outputId": "2296a851-50d0-4d20-ce66-015e12589742"
      },
      "execution_count": null,
      "outputs": [
        {
          "output_type": "execute_result",
          "data": {
            "text/plain": [
              "array([[0.35895398, 0.93955911, 0.10262116, 0.15706875],\n",
              "       [0.54498983, 0.44438219, 0.64946174, 0.97104665],\n",
              "       [0.16538379, 0.02558129, 0.32350284, 0.37394796]])"
            ]
          },
          "metadata": {},
          "execution_count": 12
        }
      ]
    },
    {
      "cell_type": "code",
      "source": [
        "# np.linspace [we call as- linear-space] ,(-10,10)-represent=(Lower Range,Upper range) & last 10 represent(no of items if u want to generate)\n",
        "#(generate linearly separable point in the given range)\n",
        "np.linspace(-10,10,10)"
      ],
      "metadata": {
        "id": "QPw_2tmO4ONi",
        "colab": {
          "base_uri": "https://localhost:8080/"
        },
        "outputId": "7953321b-d561-4807-99f6-ab23c3fb6ae9"
      },
      "execution_count": null,
      "outputs": [
        {
          "output_type": "execute_result",
          "data": {
            "text/plain": [
              "array([-10.        ,  -7.77777778,  -5.55555556,  -3.33333333,\n",
              "        -1.11111111,   1.11111111,   3.33333333,   5.55555556,\n",
              "         7.77777778,  10.        ])"
            ]
          },
          "metadata": {},
          "execution_count": 13
        }
      ]
    },
    {
      "cell_type": "code",
      "source": [
        "np.identity(3) # identity (diagonal elements are 1)"
      ],
      "metadata": {
        "id": "zuAxcKEM38Ee",
        "colab": {
          "base_uri": "https://localhost:8080/"
        },
        "outputId": "482b400c-7ae2-4b03-ff30-5d1df8732280"
      },
      "execution_count": null,
      "outputs": [
        {
          "output_type": "execute_result",
          "data": {
            "text/plain": [
              "array([[1., 0., 0.],\n",
              "       [0., 1., 0.],\n",
              "       [0., 0., 1.]])"
            ]
          },
          "metadata": {},
          "execution_count": 14
        }
      ]
    },
    {
      "cell_type": "markdown",
      "source": [
        "# Array Attributes"
      ],
      "metadata": {
        "id": "FJm7fBrm7U-9"
      }
    },
    {
      "cell_type": "code",
      "source": [
        "a1=np.arange(10) # 1-D(linear)\n",
        "a2=np.arange(12,dtype=float).reshape(3,4)  #2-D(matrix)\n",
        "a3=np.arange(8).reshape(2,2,2) # 3-D(Tensor) addition of 2-(2D)\n",
        "a1"
      ],
      "metadata": {
        "colab": {
          "base_uri": "https://localhost:8080/"
        },
        "id": "1H8FsV0H7Brs",
        "outputId": "fcda27ea-c902-456b-de4a-558a62754d39"
      },
      "execution_count": null,
      "outputs": [
        {
          "output_type": "execute_result",
          "data": {
            "text/plain": [
              "array([0, 1, 2, 3, 4, 5, 6, 7, 8, 9])"
            ]
          },
          "metadata": {},
          "execution_count": 15
        }
      ]
    },
    {
      "cell_type": "code",
      "source": [
        "a2"
      ],
      "metadata": {
        "colab": {
          "base_uri": "https://localhost:8080/"
        },
        "id": "5HEtLdqeDlU_",
        "outputId": "9712e48b-170a-4915-dc35-91180554a507"
      },
      "execution_count": null,
      "outputs": [
        {
          "output_type": "execute_result",
          "data": {
            "text/plain": [
              "array([[ 0.,  1.,  2.,  3.],\n",
              "       [ 4.,  5.,  6.,  7.],\n",
              "       [ 8.,  9., 10., 11.]])"
            ]
          },
          "metadata": {},
          "execution_count": 16
        }
      ]
    },
    {
      "cell_type": "code",
      "source": [
        "a3"
      ],
      "metadata": {
        "colab": {
          "base_uri": "https://localhost:8080/"
        },
        "id": "YtFpOiw-DqLh",
        "outputId": "d9adf75e-140c-41b1-a0af-e8911f458c0e"
      },
      "execution_count": null,
      "outputs": [
        {
          "output_type": "execute_result",
          "data": {
            "text/plain": [
              "array([[[0, 1],\n",
              "        [2, 3]],\n",
              "\n",
              "       [[4, 5],\n",
              "        [6, 7]]])"
            ]
          },
          "metadata": {},
          "execution_count": 17
        }
      ]
    },
    {
      "cell_type": "markdown",
      "source": [],
      "metadata": {
        "id": "WC4fCk7bjOc1"
      }
    },
    {
      "cell_type": "code",
      "source": [
        "#n dim (- dimension)\n",
        "a1.ndim\n",
        "a2.ndim\n",
        "a3.ndim"
      ],
      "metadata": {
        "colab": {
          "base_uri": "https://localhost:8080/"
        },
        "id": "ZHNu7Ws_ETYW",
        "outputId": "eaf00c45-643b-42a9-9b12-a8e71e152704"
      },
      "execution_count": null,
      "outputs": [
        {
          "output_type": "execute_result",
          "data": {
            "text/plain": [
              "3"
            ]
          },
          "metadata": {},
          "execution_count": 18
        }
      ]
    },
    {
      "cell_type": "code",
      "source": [
        "# Shape\n",
        "a1.shape  # in output(10 items in one direction)"
      ],
      "metadata": {
        "colab": {
          "base_uri": "https://localhost:8080/"
        },
        "id": "iRd2tY0cEn18",
        "outputId": "e3af75bd-a40a-4eae-f613-2a22d659527a"
      },
      "execution_count": null,
      "outputs": [
        {
          "output_type": "execute_result",
          "data": {
            "text/plain": [
              "(10,)"
            ]
          },
          "metadata": {},
          "execution_count": 19
        }
      ]
    },
    {
      "cell_type": "code",
      "source": [
        "a2.shape #(in output - 3 is row,4 is column)"
      ],
      "metadata": {
        "colab": {
          "base_uri": "https://localhost:8080/"
        },
        "id": "rtuKck6cE-GQ",
        "outputId": "df8f29f3-9bfd-4015-e4b7-6a5dcc2670e6"
      },
      "execution_count": null,
      "outputs": [
        {
          "output_type": "execute_result",
          "data": {
            "text/plain": [
              "(3, 4)"
            ]
          },
          "metadata": {},
          "execution_count": 20
        }
      ]
    },
    {
      "cell_type": "code",
      "source": [
        "print(a3.shape)"
      ],
      "metadata": {
        "colab": {
          "base_uri": "https://localhost:8080/"
        },
        "id": "NiV6iTe6FZJ2",
        "outputId": "2ca1b04f-01d7-4958-8456-545c8d17f75e"
      },
      "execution_count": null,
      "outputs": [
        {
          "output_type": "stream",
          "name": "stdout",
          "text": [
            "(2, 2, 2)\n"
          ]
        }
      ]
    },
    {
      "cell_type": "code",
      "source": [
        "#size(gives-no of items)\n",
        "a2.size"
      ],
      "metadata": {
        "colab": {
          "base_uri": "https://localhost:8080/"
        },
        "id": "6nVpDfnGF0c3",
        "outputId": "b63f740b-92a6-4e5d-84ac-2e743308b58f"
      },
      "execution_count": null,
      "outputs": [
        {
          "output_type": "execute_result",
          "data": {
            "text/plain": [
              "12"
            ]
          },
          "metadata": {},
          "execution_count": 22
        }
      ]
    },
    {
      "cell_type": "code",
      "source": [
        "#item size(how many occupy memory in bytes)\n",
        "a2.itemsize"
      ],
      "metadata": {
        "colab": {
          "base_uri": "https://localhost:8080/"
        },
        "id": "mbjpgop7GM-8",
        "outputId": "9803b0d4-d767-4c37-d158-5937fe484465"
      },
      "execution_count": null,
      "outputs": [
        {
          "output_type": "execute_result",
          "data": {
            "text/plain": [
              "8"
            ]
          },
          "metadata": {},
          "execution_count": 23
        }
      ]
    },
    {
      "cell_type": "code",
      "source": [
        "#dtype(its tells - data type)\n",
        "print(a1.dtype)"
      ],
      "metadata": {
        "colab": {
          "base_uri": "https://localhost:8080/"
        },
        "id": "LM6uYz6YEI6Z",
        "outputId": "1c2f3d1f-d53c-4ed6-9d3b-f4685a1ca95a"
      },
      "execution_count": null,
      "outputs": [
        {
          "output_type": "stream",
          "name": "stdout",
          "text": [
            "int64\n"
          ]
        }
      ]
    },
    {
      "cell_type": "code",
      "source": [
        "print(a2.dtype)"
      ],
      "metadata": {
        "colab": {
          "base_uri": "https://localhost:8080/"
        },
        "id": "elxMFYkBIO_e",
        "outputId": "0b507e5f-6e70-44b8-d6bc-1ae24ceae2d4"
      },
      "execution_count": null,
      "outputs": [
        {
          "output_type": "stream",
          "name": "stdout",
          "text": [
            "float64\n"
          ]
        }
      ]
    },
    {
      "cell_type": "code",
      "source": [
        "print(a3.dtype)"
      ],
      "metadata": {
        "colab": {
          "base_uri": "https://localhost:8080/"
        },
        "id": "S9hC4DtzIVW3",
        "outputId": "ce8608de-4241-4641-e9d9-372ed9c09ffb"
      },
      "execution_count": null,
      "outputs": [
        {
          "output_type": "stream",
          "name": "stdout",
          "text": [
            "int64\n"
          ]
        }
      ]
    },
    {
      "cell_type": "markdown",
      "source": [
        "# changing data type"
      ],
      "metadata": {
        "id": "BCQ5_eGRI9rY"
      }
    },
    {
      "cell_type": "code",
      "source": [
        "# astype (astype- Working( if u working on large data set but you want to remove some irrelevent column & u also want to save(free-space)some space then u can use astype))\n",
        "a3.dtype"
      ],
      "metadata": {
        "colab": {
          "base_uri": "https://localhost:8080/"
        },
        "id": "Vd3C8clTIfWl",
        "outputId": "5ac6bfe4-85a2-4001-d7de-65c540b62f10"
      },
      "execution_count": null,
      "outputs": [
        {
          "output_type": "execute_result",
          "data": {
            "text/plain": [
              "dtype('int64')"
            ]
          },
          "metadata": {},
          "execution_count": 27
        }
      ]
    },
    {
      "cell_type": "code",
      "source": [
        "a3.astype(np.int32)"
      ],
      "metadata": {
        "colab": {
          "base_uri": "https://localhost:8080/"
        },
        "id": "TqbC60F4JbHt",
        "outputId": "f90774d7-fc84-47c3-a360-63a516443d7a"
      },
      "execution_count": null,
      "outputs": [
        {
          "output_type": "execute_result",
          "data": {
            "text/plain": [
              "array([[[0, 1],\n",
              "        [2, 3]],\n",
              "\n",
              "       [[4, 5],\n",
              "        [6, 7]]], dtype=int32)"
            ]
          },
          "metadata": {},
          "execution_count": 28
        }
      ]
    },
    {
      "cell_type": "markdown",
      "source": [
        "# Array operations"
      ],
      "metadata": {
        "id": "KmkF3fezqMxM"
      }
    },
    {
      "cell_type": "code",
      "source": [
        "a1=np.arange(12).reshape(3,4)\n",
        "a1"
      ],
      "metadata": {
        "colab": {
          "base_uri": "https://localhost:8080/"
        },
        "id": "JkZGEIQ4KZuR",
        "outputId": "43706ceb-8fea-43d9-f87e-af68fc41f354"
      },
      "execution_count": null,
      "outputs": [
        {
          "output_type": "execute_result",
          "data": {
            "text/plain": [
              "array([[ 0,  1,  2,  3],\n",
              "       [ 4,  5,  6,  7],\n",
              "       [ 8,  9, 10, 11]])"
            ]
          },
          "metadata": {},
          "execution_count": 29
        }
      ]
    },
    {
      "cell_type": "code",
      "source": [
        "a2=np.arange(12,24).reshape(3,4)\n",
        "a2"
      ],
      "metadata": {
        "colab": {
          "base_uri": "https://localhost:8080/"
        },
        "id": "a0iBBW7iqk-j",
        "outputId": "a30e4852-d4c4-4df1-e794-be6221600e04"
      },
      "execution_count": null,
      "outputs": [
        {
          "output_type": "execute_result",
          "data": {
            "text/plain": [
              "array([[12, 13, 14, 15],\n",
              "       [16, 17, 18, 19],\n",
              "       [20, 21, 22, 23]])"
            ]
          },
          "metadata": {},
          "execution_count": 30
        }
      ]
    },
    {
      "cell_type": "code",
      "source": [
        "# scalar operations (arithematic)-(*,-,%,/,//) or vector operations are same\n",
        "a1\n",
        "a1//2"
      ],
      "metadata": {
        "colab": {
          "base_uri": "https://localhost:8080/"
        },
        "id": "l5Ux07byqvuD",
        "outputId": "598c90ea-0453-4c65-b69b-b64c9907f30d"
      },
      "execution_count": null,
      "outputs": [
        {
          "output_type": "execute_result",
          "data": {
            "text/plain": [
              "array([[0, 0, 1, 1],\n",
              "       [2, 2, 3, 3],\n",
              "       [4, 4, 5, 5]])"
            ]
          },
          "metadata": {},
          "execution_count": 31
        }
      ]
    },
    {
      "cell_type": "code",
      "source": [
        "# relational operators(>,<,>=,<=,=)\n",
        "a1\n",
        "a1>5"
      ],
      "metadata": {
        "colab": {
          "base_uri": "https://localhost:8080/"
        },
        "id": "0xOTDkBWrav8",
        "outputId": "a95bd0fb-4901-4795-b58a-84a43a0dc5e2"
      },
      "execution_count": null,
      "outputs": [
        {
          "output_type": "execute_result",
          "data": {
            "text/plain": [
              "array([[False, False, False, False],\n",
              "       [False, False,  True,  True],\n",
              "       [ True,  True,  True,  True]])"
            ]
          },
          "metadata": {},
          "execution_count": 32
        }
      ]
    },
    {
      "cell_type": "code",
      "source": [
        "a1[a1>5]"
      ],
      "metadata": {
        "colab": {
          "base_uri": "https://localhost:8080/"
        },
        "id": "nmDgQLcertME",
        "outputId": "7c08ce18-2a9a-412e-e24f-c0c5a41ce7fb"
      },
      "execution_count": null,
      "outputs": [
        {
          "output_type": "execute_result",
          "data": {
            "text/plain": [
              "array([ 6,  7,  8,  9, 10, 11])"
            ]
          },
          "metadata": {},
          "execution_count": 33
        }
      ]
    },
    {
      "cell_type": "markdown",
      "source": [
        "# Array Functions"
      ],
      "metadata": {
        "id": "AlSXmGlAtZTN"
      }
    },
    {
      "cell_type": "code",
      "source": [
        "a1=np.random.random((3,3))\n",
        "a1\n",
        "np.round(a1*100)"
      ],
      "metadata": {
        "colab": {
          "base_uri": "https://localhost:8080/"
        },
        "id": "Ltp7-7pCtFG1",
        "outputId": "db1ae968-00d5-460a-96bd-cddf750ff81f"
      },
      "execution_count": null,
      "outputs": [
        {
          "output_type": "execute_result",
          "data": {
            "text/plain": [
              "array([[ 98., 100.,  66.],\n",
              "       [  9.,  18.,  54.],\n",
              "       [ 62.,  53.,  89.]])"
            ]
          },
          "metadata": {},
          "execution_count": 34
        }
      ]
    },
    {
      "cell_type": "code",
      "source": [
        "a1"
      ],
      "metadata": {
        "colab": {
          "base_uri": "https://localhost:8080/"
        },
        "id": "2XF-Rd4ZwQr3",
        "outputId": "55e10ed7-740b-4c85-ec7d-fc0003c21d4f"
      },
      "execution_count": null,
      "outputs": [
        {
          "output_type": "execute_result",
          "data": {
            "text/plain": [
              "array([[0.97615782, 0.99603702, 0.66167048],\n",
              "       [0.08656677, 0.17878779, 0.53772378],\n",
              "       [0.62167132, 0.52856344, 0.88775635]])"
            ]
          },
          "metadata": {},
          "execution_count": 35
        }
      ]
    },
    {
      "cell_type": "code",
      "source": [
        "np.max(a1)"
      ],
      "metadata": {
        "colab": {
          "base_uri": "https://localhost:8080/"
        },
        "id": "esl2oV7BwG7F",
        "outputId": "a07d7776-5707-4ba1-9de4-b5d596f5c886"
      },
      "execution_count": null,
      "outputs": [
        {
          "output_type": "execute_result",
          "data": {
            "text/plain": [
              "0.9960370169521221"
            ]
          },
          "metadata": {},
          "execution_count": 36
        }
      ]
    },
    {
      "cell_type": "code",
      "source": [
        "np.min(a1)"
      ],
      "metadata": {
        "colab": {
          "base_uri": "https://localhost:8080/"
        },
        "id": "KhyQA12dwMQ9",
        "outputId": "547f05bc-abcc-4c58-a0ec-e1328eb2164c"
      },
      "execution_count": null,
      "outputs": [
        {
          "output_type": "execute_result",
          "data": {
            "text/plain": [
              "0.08656676572735567"
            ]
          },
          "metadata": {},
          "execution_count": 37
        }
      ]
    },
    {
      "cell_type": "code",
      "source": [
        "np.sum(a1)"
      ],
      "metadata": {
        "colab": {
          "base_uri": "https://localhost:8080/"
        },
        "id": "3eRxih1LxEYn",
        "outputId": "b2fc2f6c-a3d1-4586-b78b-60e8f738ef51"
      },
      "execution_count": null,
      "outputs": [
        {
          "output_type": "execute_result",
          "data": {
            "text/plain": [
              "5.474934763940406"
            ]
          },
          "metadata": {},
          "execution_count": 38
        }
      ]
    },
    {
      "cell_type": "code",
      "source": [
        "np.prod(a1)   # (zero(0) for column, one(1) for row)\n",
        "np.prod(a1,axis=0)\n",
        "a1"
      ],
      "metadata": {
        "colab": {
          "base_uri": "https://localhost:8080/"
        },
        "id": "BTVSPw_axJ90",
        "outputId": "f8318891-22cd-4901-fbd4-4b93f12a01f4"
      },
      "execution_count": null,
      "outputs": [
        {
          "output_type": "execute_result",
          "data": {
            "text/plain": [
              "array([[0.97615782, 0.99603702, 0.66167048],\n",
              "       [0.08656677, 0.17878779, 0.53772378],\n",
              "       [0.62167132, 0.52856344, 0.88775635]])"
            ]
          },
          "metadata": {},
          "execution_count": 39
        }
      ]
    },
    {
      "cell_type": "code",
      "source": [
        "# mean, median, mode ,standard deviation,variance, (trigonomatric function not use in data science XXXX)\n",
        "np.mean(a1,axis=0)\n",
        "np.median(a1,axis=1)\n",
        "np.std(a1,axis=0)\n",
        "np.var(a1,axis=0)\n",
        "np.sin(a1)"
      ],
      "metadata": {
        "colab": {
          "base_uri": "https://localhost:8080/"
        },
        "id": "vjonVXpNzeYJ",
        "outputId": "cdf496b4-5809-4eb3-c9bb-d3283601494f"
      },
      "execution_count": null,
      "outputs": [
        {
          "output_type": "execute_result",
          "data": {
            "text/plain": [
              "array([[0.82835106, 0.83932317, 0.61443566],\n",
              "       [0.08645869, 0.17783682, 0.51218233],\n",
              "       [0.5823946 , 0.50429335, 0.77565761]])"
            ]
          },
          "metadata": {},
          "execution_count": 40
        }
      ]
    },
    {
      "cell_type": "code",
      "source": [
        "# dot produt\n",
        "a1=np.arange(12).reshape(3,4)\n",
        "a2=np.arange(12,24).reshape(4,3)\n",
        "np.dot(a1,a2)"
      ],
      "metadata": {
        "colab": {
          "base_uri": "https://localhost:8080/"
        },
        "id": "w1UGX8R630E4",
        "outputId": "8bf4335f-71a9-4bf6-9de6-7bab7dc6483d"
      },
      "execution_count": null,
      "outputs": [
        {
          "output_type": "execute_result",
          "data": {
            "text/plain": [
              "array([[114, 120, 126],\n",
              "       [378, 400, 422],\n",
              "       [642, 680, 718]])"
            ]
          },
          "metadata": {},
          "execution_count": 41
        }
      ]
    },
    {
      "cell_type": "code",
      "source": [
        " # log & exponent\n",
        "np.log(a1)\n",
        "np.exp(a1)"
      ],
      "metadata": {
        "colab": {
          "base_uri": "https://localhost:8080/"
        },
        "id": "-y8kKFYm6uFl",
        "outputId": "c95c3b0b-1aa3-4944-db90-fceff90229ba"
      },
      "execution_count": null,
      "outputs": [
        {
          "output_type": "stream",
          "name": "stderr",
          "text": [
            "<ipython-input-42-a369e9d60ce0>:2: RuntimeWarning: divide by zero encountered in log\n",
            "  np.log(a1)\n"
          ]
        },
        {
          "output_type": "execute_result",
          "data": {
            "text/plain": [
              "array([[1.00000000e+00, 2.71828183e+00, 7.38905610e+00, 2.00855369e+01],\n",
              "       [5.45981500e+01, 1.48413159e+02, 4.03428793e+02, 1.09663316e+03],\n",
              "       [2.98095799e+03, 8.10308393e+03, 2.20264658e+04, 5.98741417e+04]])"
            ]
          },
          "metadata": {},
          "execution_count": 42
        }
      ]
    },
    {
      "cell_type": "code",
      "source": [
        "# round/floor/ceil(floor- value ko pichhe le jata hai ex-7.2 value hai to 6 kr dega, ((in ceil=vice-versa)-ceil fun ki value ko aage le kr jayega ex-6.7 hai to 7 kr dega))\n",
        "np.round(np.random.random((2,3))*100)"
      ],
      "metadata": {
        "colab": {
          "base_uri": "https://localhost:8080/"
        },
        "id": "_2molQt-8ADR",
        "outputId": "8b694757-8f9c-487e-e335-9d991421f7a8"
      },
      "execution_count": null,
      "outputs": [
        {
          "output_type": "execute_result",
          "data": {
            "text/plain": [
              "array([[22., 67.,  8.],\n",
              "       [35., 76., 92.]])"
            ]
          },
          "metadata": {},
          "execution_count": 43
        }
      ]
    },
    {
      "cell_type": "markdown",
      "source": [
        "# Indexing /Scilicing"
      ],
      "metadata": {
        "id": "_qzt7PeQBCf5"
      }
    },
    {
      "cell_type": "code",
      "source": [
        "a1=np.arange(10)  # (1-D)\n",
        "a1"
      ],
      "metadata": {
        "colab": {
          "base_uri": "https://localhost:8080/"
        },
        "id": "q5JCGpDQ_vT8",
        "outputId": "65330328-b87f-412c-ab0c-0eddb01ddbf3"
      },
      "execution_count": null,
      "outputs": [
        {
          "output_type": "execute_result",
          "data": {
            "text/plain": [
              "array([0, 1, 2, 3, 4, 5, 6, 7, 8, 9])"
            ]
          },
          "metadata": {},
          "execution_count": 44
        }
      ]
    },
    {
      "cell_type": "code",
      "source": [
        "a2=np.arange(12).reshape(3,4) # (2-D)\n",
        "a2"
      ],
      "metadata": {
        "colab": {
          "base_uri": "https://localhost:8080/"
        },
        "id": "wKnaYyPhBYem",
        "outputId": "d0c1e6c6-e107-4df0-814d-8e68c1b37fea"
      },
      "execution_count": null,
      "outputs": [
        {
          "output_type": "execute_result",
          "data": {
            "text/plain": [
              "array([[ 0,  1,  2,  3],\n",
              "       [ 4,  5,  6,  7],\n",
              "       [ 8,  9, 10, 11]])"
            ]
          },
          "metadata": {},
          "execution_count": 45
        }
      ]
    },
    {
      "cell_type": "code",
      "source": [
        "a3=np.arange(8).reshape(2,2,2) #(3-D) 3-D mix of 2(2D)\n",
        "a3"
      ],
      "metadata": {
        "colab": {
          "base_uri": "https://localhost:8080/"
        },
        "id": "zXDToM5dBg12",
        "outputId": "65b37330-99ca-4301-aee0-26f78614d7ab"
      },
      "execution_count": null,
      "outputs": [
        {
          "output_type": "execute_result",
          "data": {
            "text/plain": [
              "array([[[0, 1],\n",
              "        [2, 3]],\n",
              "\n",
              "       [[4, 5],\n",
              "        [6, 7]]])"
            ]
          },
          "metadata": {},
          "execution_count": 46
        }
      ]
    },
    {
      "cell_type": "code",
      "source": [
        "# find element 2 from a3\n",
        "a3[0,1,0] # 2(2D) 1st index on 0, 1 is row,0 in col"
      ],
      "metadata": {
        "colab": {
          "base_uri": "https://localhost:8080/"
        },
        "id": "E5tJjHOPDGbE",
        "outputId": "9f7aff4f-b298-4c64-ce34-2490b7436ce8"
      },
      "execution_count": null,
      "outputs": [
        {
          "output_type": "execute_result",
          "data": {
            "text/plain": [
              "2"
            ]
          },
          "metadata": {},
          "execution_count": 47
        }
      ]
    },
    {
      "cell_type": "code",
      "source": [
        "# find element 5\n",
        "a3[1,0,1] # 1- 1st index pr aa rha hai, 0-row,1-col"
      ],
      "metadata": {
        "colab": {
          "base_uri": "https://localhost:8080/"
        },
        "id": "zHzfkZMAE8UC",
        "outputId": "441d882f-dac3-4b37-cfa4-364aca8b39a4"
      },
      "execution_count": null,
      "outputs": [
        {
          "output_type": "execute_result",
          "data": {
            "text/plain": [
              "5"
            ]
          },
          "metadata": {},
          "execution_count": 48
        }
      ]
    },
    {
      "cell_type": "markdown",
      "source": [
        "# Scilicing"
      ],
      "metadata": {
        "id": "-mAZ6H_GKxPc"
      }
    },
    {
      "cell_type": "code",
      "source": [
        "a1"
      ],
      "metadata": {
        "colab": {
          "base_uri": "https://localhost:8080/"
        },
        "id": "f5LDwsaCK6Nd",
        "outputId": "40e8c66c-d1a5-4f98-adcd-13f26b4390e1"
      },
      "execution_count": null,
      "outputs": [
        {
          "output_type": "execute_result",
          "data": {
            "text/plain": [
              "array([0, 1, 2, 3, 4, 5, 6, 7, 8, 9])"
            ]
          },
          "metadata": {},
          "execution_count": 49
        }
      ]
    },
    {
      "cell_type": "code",
      "source": [
        "a1[2:5] # in 1-D working as same as python"
      ],
      "metadata": {
        "colab": {
          "base_uri": "https://localhost:8080/"
        },
        "id": "iNGN3tcDFwAQ",
        "outputId": "663c8e4d-bbab-409f-a8f7-d14e593b4b92"
      },
      "execution_count": null,
      "outputs": [
        {
          "output_type": "execute_result",
          "data": {
            "text/plain": [
              "array([2, 3, 4])"
            ]
          },
          "metadata": {},
          "execution_count": 50
        }
      ]
    },
    {
      "cell_type": "code",
      "source": [
        "a2"
      ],
      "metadata": {
        "colab": {
          "base_uri": "https://localhost:8080/"
        },
        "id": "XjiR94yfLTGG",
        "outputId": "3591fb05-b2ab-4c12-c513-c6585f12781c"
      },
      "execution_count": null,
      "outputs": [
        {
          "output_type": "execute_result",
          "data": {
            "text/plain": [
              "array([[ 0,  1,  2,  3],\n",
              "       [ 4,  5,  6,  7],\n",
              "       [ 8,  9, 10, 11]])"
            ]
          },
          "metadata": {},
          "execution_count": 51
        }
      ]
    },
    {
      "cell_type": "code",
      "source": [
        "# fetch the value 123\n",
        "a2[0,1:]  # 0-rep(row),1: rep(col) starting from 1"
      ],
      "metadata": {
        "colab": {
          "base_uri": "https://localhost:8080/"
        },
        "id": "8Qt6D3R8LW-C",
        "outputId": "bba6759c-357d-439e-e8aa-fefe28790ff1"
      },
      "execution_count": null,
      "outputs": [
        {
          "output_type": "execute_result",
          "data": {
            "text/plain": [
              "array([1, 2, 3])"
            ]
          },
          "metadata": {},
          "execution_count": 52
        }
      ]
    },
    {
      "cell_type": "code",
      "source": [
        "# fetch the value 3 col [2,6,10]\n",
        "a2[:,2] # all rows , 2- col"
      ],
      "metadata": {
        "colab": {
          "base_uri": "https://localhost:8080/"
        },
        "id": "KjKq0MVhL7OF",
        "outputId": "f449098e-9879-407e-e77d-9a98334433f0"
      },
      "execution_count": null,
      "outputs": [
        {
          "output_type": "execute_result",
          "data": {
            "text/plain": [
              "array([ 2,  6, 10])"
            ]
          },
          "metadata": {},
          "execution_count": 53
        }
      ]
    },
    {
      "cell_type": "code",
      "source": [
        "# fetch the value [5,6] [9,10]\n",
        "a2[1:,1:3] # row fetch from 1:(: means-onword) & col fetch bet^n 1 to 3"
      ],
      "metadata": {
        "colab": {
          "base_uri": "https://localhost:8080/"
        },
        "id": "cb2qBetzMZ_K",
        "outputId": "cfa17d3d-702e-40b5-c3da-9fa5135d06e2"
      },
      "execution_count": null,
      "outputs": [
        {
          "output_type": "execute_result",
          "data": {
            "text/plain": [
              "array([[ 5,  6],\n",
              "       [ 9, 10]])"
            ]
          },
          "metadata": {},
          "execution_count": 54
        }
      ]
    },
    {
      "cell_type": "code",
      "source": [
        "# fetch the value [0,3] [8,11]\n",
        "a2[::2,::3] # takes value corresponding one-gap-one"
      ],
      "metadata": {
        "colab": {
          "base_uri": "https://localhost:8080/"
        },
        "id": "7v6Et6exNdea",
        "outputId": "87f8c7f1-88d9-4045-e8ed-e077116b82c3"
      },
      "execution_count": null,
      "outputs": [
        {
          "output_type": "execute_result",
          "data": {
            "text/plain": [
              "array([[ 0,  3],\n",
              "       [ 8, 11]])"
            ]
          },
          "metadata": {},
          "execution_count": 55
        }
      ]
    },
    {
      "cell_type": "code",
      "source": [
        "# fetch the value [1,3] [9,11]\n",
        "a2[::2,1::2]"
      ],
      "metadata": {
        "colab": {
          "base_uri": "https://localhost:8080/"
        },
        "id": "jQD985vHOYOn",
        "outputId": "383bb628-c6f6-406d-f702-b60a690fab69"
      },
      "execution_count": null,
      "outputs": [
        {
          "output_type": "execute_result",
          "data": {
            "text/plain": [
              "array([[ 1,  3],\n",
              "       [ 9, 11]])"
            ]
          },
          "metadata": {},
          "execution_count": 56
        }
      ]
    },
    {
      "cell_type": "code",
      "source": [
        "# fetch the value [4 ,7]\n",
        "a2[1,::3] # 1- row, ::3 for col"
      ],
      "metadata": {
        "colab": {
          "base_uri": "https://localhost:8080/"
        },
        "id": "Hs2A_IpETReT",
        "outputId": "b971d94c-608b-496f-ed56-cfce04ef957b"
      },
      "execution_count": null,
      "outputs": [
        {
          "output_type": "execute_result",
          "data": {
            "text/plain": [
              "array([4, 7])"
            ]
          },
          "metadata": {},
          "execution_count": 57
        }
      ]
    },
    {
      "cell_type": "code",
      "source": [
        "# fetch the value [1,2,3] [5,6,7]\n",
        "a2[0:2,1:]"
      ],
      "metadata": {
        "colab": {
          "base_uri": "https://localhost:8080/"
        },
        "id": "sRAoVR09UAFh",
        "outputId": "2170a1e8-5422-4db5-f456-050615fc2ed7"
      },
      "execution_count": null,
      "outputs": [
        {
          "output_type": "execute_result",
          "data": {
            "text/plain": [
              "array([[1, 2, 3],\n",
              "       [5, 6, 7]])"
            ]
          },
          "metadata": {},
          "execution_count": 58
        }
      ]
    },
    {
      "cell_type": "code",
      "source": [
        "a3=np.arange(27).reshape(3,3,3)  # 3-D representation\n",
        "a3"
      ],
      "metadata": {
        "colab": {
          "base_uri": "https://localhost:8080/"
        },
        "id": "-sACLyBOUYsP",
        "outputId": "e394f8a8-b703-49a1-a00a-7379c1800832"
      },
      "execution_count": null,
      "outputs": [
        {
          "output_type": "execute_result",
          "data": {
            "text/plain": [
              "array([[[ 0,  1,  2],\n",
              "        [ 3,  4,  5],\n",
              "        [ 6,  7,  8]],\n",
              "\n",
              "       [[ 9, 10, 11],\n",
              "        [12, 13, 14],\n",
              "        [15, 16, 17]],\n",
              "\n",
              "       [[18, 19, 20],\n",
              "        [21, 22, 23],\n",
              "        [24, 25, 26]]])"
            ]
          },
          "metadata": {},
          "execution_count": 59
        }
      ]
    },
    {
      "cell_type": "code",
      "source": [
        "# fetch the value [3,4,5]\n",
        "a3[0,1,:] # in 3-D (0 -rep (index),1 rep-(row -no), remain col)"
      ],
      "metadata": {
        "colab": {
          "base_uri": "https://localhost:8080/"
        },
        "id": "EHUgipqfUoJx",
        "outputId": "a252bd4a-ab61-4536-ae22-72021d7da37d"
      },
      "execution_count": null,
      "outputs": [
        {
          "output_type": "execute_result",
          "data": {
            "text/plain": [
              "array([3, 4, 5])"
            ]
          },
          "metadata": {},
          "execution_count": 60
        }
      ]
    },
    {
      "cell_type": "code",
      "source": [
        "# fetch the value [10,13,16]\n",
        "a3[1,:,1] #  (1 -rep (index),(:) rep-(selecting all row), remain col (1))"
      ],
      "metadata": {
        "colab": {
          "base_uri": "https://localhost:8080/"
        },
        "id": "2NyoQLKZVZGf",
        "outputId": "ef261deb-fbd5-4492-a5d2-4e112ac4e883"
      },
      "execution_count": null,
      "outputs": [
        {
          "output_type": "execute_result",
          "data": {
            "text/plain": [
              "array([10, 13, 16])"
            ]
          },
          "metadata": {},
          "execution_count": 61
        }
      ]
    },
    {
      "cell_type": "code",
      "source": [
        "# fetch the value [22,23],[25,26]\n",
        "a3[2,1:,1:]  #  (2 -rep (index),(1:) rep-( all row from 1), remain col (1:))"
      ],
      "metadata": {
        "colab": {
          "base_uri": "https://localhost:8080/"
        },
        "id": "1jqV0OwAWBO_",
        "outputId": "94e6a014-44bc-45de-a938-2a23fe799573"
      },
      "execution_count": null,
      "outputs": [
        {
          "output_type": "execute_result",
          "data": {
            "text/plain": [
              "array([[22, 23],\n",
              "       [25, 26]])"
            ]
          },
          "metadata": {},
          "execution_count": 62
        }
      ]
    },
    {
      "cell_type": "code",
      "source": [
        "# fetch the value [0,2],[18,20]\n",
        "a3[0::2,0,::2]  #  (::2 -rep (index),(0) rep-( row ), remain col (::2))"
      ],
      "metadata": {
        "colab": {
          "base_uri": "https://localhost:8080/"
        },
        "id": "Mu0kKFGZWgK_",
        "outputId": "e2976f33-da38-4bca-be0c-7d334c37aaee"
      },
      "execution_count": null,
      "outputs": [
        {
          "output_type": "execute_result",
          "data": {
            "text/plain": [
              "array([[ 0,  2],\n",
              "       [18, 20]])"
            ]
          },
          "metadata": {},
          "execution_count": 63
        }
      ]
    },
    {
      "cell_type": "markdown",
      "source": [
        "# Iteration"
      ],
      "metadata": {
        "id": "dioteygcXYL-"
      }
    },
    {
      "cell_type": "code",
      "source": [
        "a1  # iteration in 1-d\n",
        "for i in (a1):\n",
        " print(i)"
      ],
      "metadata": {
        "colab": {
          "base_uri": "https://localhost:8080/"
        },
        "id": "kv_yUtfUZD_P",
        "outputId": "f13e23fb-4102-4f87-9e43-bcb82773bfcc"
      },
      "execution_count": null,
      "outputs": [
        {
          "output_type": "stream",
          "name": "stdout",
          "text": [
            "0\n",
            "1\n",
            "2\n",
            "3\n",
            "4\n",
            "5\n",
            "6\n",
            "7\n",
            "8\n",
            "9\n"
          ]
        }
      ]
    },
    {
      "cell_type": "code",
      "source": [
        "a2 # iteration in 2-d\n",
        "for i in (a2):\n",
        "  print(i)"
      ],
      "metadata": {
        "colab": {
          "base_uri": "https://localhost:8080/"
        },
        "id": "6L43aV3fZg65",
        "outputId": "401616f7-003e-4c24-c0c0-2bb42c9cf305"
      },
      "execution_count": null,
      "outputs": [
        {
          "output_type": "stream",
          "name": "stdout",
          "text": [
            "[0 1 2 3]\n",
            "[4 5 6 7]\n",
            "[ 8  9 10 11]\n"
          ]
        }
      ]
    },
    {
      "cell_type": "code",
      "source": [
        "a3 # iteration in 3-d\n",
        "for i in (a3):\n",
        "  print(i)"
      ],
      "metadata": {
        "colab": {
          "base_uri": "https://localhost:8080/"
        },
        "id": "9qhmzcisZ4Ro",
        "outputId": "9b19af84-14f3-4e37-b8c1-5bfdfc18222e"
      },
      "execution_count": null,
      "outputs": [
        {
          "output_type": "stream",
          "name": "stdout",
          "text": [
            "[[0 1 2]\n",
            " [3 4 5]\n",
            " [6 7 8]]\n",
            "[[ 9 10 11]\n",
            " [12 13 14]\n",
            " [15 16 17]]\n",
            "[[18 19 20]\n",
            " [21 22 23]\n",
            " [24 25 26]]\n"
          ]
        }
      ]
    },
    {
      "cell_type": "code",
      "source": [
        "# if u want to fetch 2-d or 3-d element one by one then use (np.nditer) NDITER USE\n",
        "for i in np.nditer(a3):\n",
        "  print(i)"
      ],
      "metadata": {
        "colab": {
          "base_uri": "https://localhost:8080/"
        },
        "id": "_WVo1G40Z9pY",
        "outputId": "8678ba01-3e75-4fab-b5fd-350c5db3db42"
      },
      "execution_count": null,
      "outputs": [
        {
          "output_type": "stream",
          "name": "stdout",
          "text": [
            "0\n",
            "1\n",
            "2\n",
            "3\n",
            "4\n",
            "5\n",
            "6\n",
            "7\n",
            "8\n",
            "9\n",
            "10\n",
            "11\n",
            "12\n",
            "13\n",
            "14\n",
            "15\n",
            "16\n",
            "17\n",
            "18\n",
            "19\n",
            "20\n",
            "21\n",
            "22\n",
            "23\n",
            "24\n",
            "25\n",
            "26\n"
          ]
        }
      ]
    },
    {
      "cell_type": "code",
      "source": [
        "a2  # Transpose\n",
        "np.transpose(a2)\n",
        "a2.T"
      ],
      "metadata": {
        "colab": {
          "base_uri": "https://localhost:8080/"
        },
        "id": "j2zyy0x1XSfJ",
        "outputId": "1b22c4a6-a399-41db-9b58-3c5d20c7e3c9"
      },
      "execution_count": null,
      "outputs": [
        {
          "output_type": "execute_result",
          "data": {
            "text/plain": [
              "array([[ 0,  4,  8],\n",
              "       [ 1,  5,  9],\n",
              "       [ 2,  6, 10],\n",
              "       [ 3,  7, 11]])"
            ]
          },
          "metadata": {},
          "execution_count": 68
        }
      ]
    },
    {
      "cell_type": "code",
      "source": [
        "a2.ravel()  # ravel convert in 1-d array"
      ],
      "metadata": {
        "colab": {
          "base_uri": "https://localhost:8080/"
        },
        "id": "Gu2_JvqEXRB_",
        "outputId": "fcccc475-c126-4dd9-a740-ad70531a9763"
      },
      "execution_count": null,
      "outputs": [
        {
          "output_type": "execute_result",
          "data": {
            "text/plain": [
              "array([ 0,  1,  2,  3,  4,  5,  6,  7,  8,  9, 10, 11])"
            ]
          },
          "metadata": {},
          "execution_count": 69
        }
      ]
    },
    {
      "cell_type": "markdown",
      "source": [
        "# Stacking (shape will be same**)"
      ],
      "metadata": {
        "id": "ksLQAu0lbcCp"
      }
    },
    {
      "cell_type": "code",
      "source": [
        "# horizontal stacking we call(# hstack) adding horizontally\n",
        "a4=np.arange(12).reshape(3,4)\n",
        "a5=np.arange(12,24).reshape(3,4)\n",
        "a4,a5\n",
        "np.hstack((a4,a5,a4))"
      ],
      "metadata": {
        "colab": {
          "base_uri": "https://localhost:8080/"
        },
        "id": "MVXexRRRbqcw",
        "outputId": "ef791ea3-0cde-434d-90bc-018f439c625a"
      },
      "execution_count": null,
      "outputs": [
        {
          "output_type": "execute_result",
          "data": {
            "text/plain": [
              "array([[ 0,  1,  2,  3, 12, 13, 14, 15,  0,  1,  2,  3],\n",
              "       [ 4,  5,  6,  7, 16, 17, 18, 19,  4,  5,  6,  7],\n",
              "       [ 8,  9, 10, 11, 20, 21, 22, 23,  8,  9, 10, 11]])"
            ]
          },
          "metadata": {},
          "execution_count": 70
        }
      ]
    },
    {
      "cell_type": "code",
      "source": [
        "# vertical stacking we call(# vstack) adding vertically\n",
        "np.vstack((a4,a5,a4))"
      ],
      "metadata": {
        "colab": {
          "base_uri": "https://localhost:8080/"
        },
        "id": "w3Eet375bv5Y",
        "outputId": "16e75d3c-b9d7-446f-9a64-64dd83b487b1"
      },
      "execution_count": null,
      "outputs": [
        {
          "output_type": "execute_result",
          "data": {
            "text/plain": [
              "array([[ 0,  1,  2,  3],\n",
              "       [ 4,  5,  6,  7],\n",
              "       [ 8,  9, 10, 11],\n",
              "       [12, 13, 14, 15],\n",
              "       [16, 17, 18, 19],\n",
              "       [20, 21, 22, 23],\n",
              "       [ 0,  1,  2,  3],\n",
              "       [ 4,  5,  6,  7],\n",
              "       [ 8,  9, 10, 11]])"
            ]
          },
          "metadata": {},
          "execution_count": 71
        }
      ]
    },
    {
      "cell_type": "markdown",
      "source": [
        "# Splitting"
      ],
      "metadata": {
        "id": "xZJdf4qvocU1"
      }
    },
    {
      "cell_type": "code",
      "source": [
        "# hsplit==( vetically cut krte hai), vsplit== (( horozontally cut krte hai))\n",
        "a4\n",
        "np.hsplit(a4,2)  # split vertically in to two verical line"
      ],
      "metadata": {
        "colab": {
          "base_uri": "https://localhost:8080/"
        },
        "id": "SBJ2c17YdLo_",
        "outputId": "a491a3ed-1efa-4116-b57d-407db5d0c48d"
      },
      "execution_count": null,
      "outputs": [
        {
          "output_type": "execute_result",
          "data": {
            "text/plain": [
              "[array([[0, 1],\n",
              "        [4, 5],\n",
              "        [8, 9]]),\n",
              " array([[ 2,  3],\n",
              "        [ 6,  7],\n",
              "        [10, 11]])]"
            ]
          },
          "metadata": {},
          "execution_count": 72
        }
      ]
    },
    {
      "cell_type": "code",
      "source": [
        "a5\n",
        "np.vsplit(a5,3)  # split horizontally in to three horizontal line"
      ],
      "metadata": {
        "colab": {
          "base_uri": "https://localhost:8080/"
        },
        "id": "Ner94gQFozUm",
        "outputId": "10aa7f8c-ffe3-4cf3-f1b4-57bc2b53b908"
      },
      "execution_count": null,
      "outputs": [
        {
          "output_type": "execute_result",
          "data": {
            "text/plain": [
              "[array([[12, 13, 14, 15]]),\n",
              " array([[16, 17, 18, 19]]),\n",
              " array([[20, 21, 22, 23]])]"
            ]
          },
          "metadata": {},
          "execution_count": 73
        }
      ]
    },
    {
      "cell_type": "markdown",
      "source": [
        "# Numpy Array V/S Python Array"
      ],
      "metadata": {
        "id": "ds3efgjkq3NC"
      }
    },
    {
      "cell_type": "code",
      "source": [
        "#speed\n",
        "#list\n",
        "import time\n",
        "a=[ i for i in range(10000000)] # 1 cr\n",
        "b=[i for i in range(10000000,20000000)]\n",
        "c=[]\n",
        "start=time.time()\n",
        "for i in range(len(a)):\n",
        "   c.append(a[i]+b[i])\n",
        "print(time.time()-start)\n"
      ],
      "metadata": {
        "colab": {
          "base_uri": "https://localhost:8080/"
        },
        "id": "nexOwailqzIr",
        "outputId": "6831a11b-03d0-4c40-bc4d-33295d826c01"
      },
      "execution_count": null,
      "outputs": [
        {
          "output_type": "stream",
          "name": "stdout",
          "text": [
            "9.85997223854065\n"
          ]
        }
      ]
    },
    {
      "cell_type": "code",
      "source": [
        "import numpy as np\n",
        "import time\n",
        "\n",
        "a = np.arange(10000000)\n",
        "b = np.arange(10000000, 20000000)\n",
        "\n",
        "start = time.time()\n",
        "c = a + b  # Vectorized operation\n",
        "print(time.time()- start)"
      ],
      "metadata": {
        "colab": {
          "base_uri": "https://localhost:8080/"
        },
        "id": "xkS7wvsgqH-0",
        "outputId": "1527a3bb-0107-4599-92ae-5d6d826e001b"
      },
      "execution_count": null,
      "outputs": [
        {
          "output_type": "stream",
          "name": "stdout",
          "text": [
            "0.06462383270263672\n"
          ]
        }
      ]
    },
    {
      "cell_type": "code",
      "source": [
        "# so we can use now numpy in place of python list because numpy tooks very less time campare to python list"
      ],
      "metadata": {
        "id": "1NoJgjfa13xV"
      },
      "execution_count": null,
      "outputs": []
    },
    {
      "cell_type": "markdown",
      "source": [
        "# Memory"
      ],
      "metadata": {
        "id": "PTSVwCyN2Syq"
      }
    },
    {
      "cell_type": "code",
      "source": [
        "a= [i for i in range(10000000)]\n",
        "import sys\n",
        "sys.getsizeof(a)"
      ],
      "metadata": {
        "colab": {
          "base_uri": "https://localhost:8080/"
        },
        "id": "fB00dIgp2MM7",
        "outputId": "323afe9e-0697-464b-d3b0-364995e1f21c"
      },
      "execution_count": null,
      "outputs": [
        {
          "output_type": "execute_result",
          "data": {
            "text/plain": [
              "89095160"
            ]
          },
          "metadata": {},
          "execution_count": 77
        }
      ]
    },
    {
      "cell_type": "code",
      "source": [
        "np.arange(10000000,)"
      ],
      "metadata": {
        "colab": {
          "base_uri": "https://localhost:8080/"
        },
        "id": "qrwtNjyw34L1",
        "outputId": "cc42c52c-6565-4b4a-c63d-e87a4e5b0827"
      },
      "execution_count": null,
      "outputs": [
        {
          "output_type": "execute_result",
          "data": {
            "text/plain": [
              "array([      0,       1,       2, ..., 9999997, 9999998, 9999999])"
            ]
          },
          "metadata": {},
          "execution_count": 78
        }
      ]
    },
    {
      "cell_type": "code",
      "source": [
        "np.arange(10000000,dtype=np.int32).nbytes\n",
        "sys.getsizeof(a)"
      ],
      "metadata": {
        "colab": {
          "base_uri": "https://localhost:8080/"
        },
        "id": "-PkenoHx20R3",
        "outputId": "d44d632a-560f-4ae1-ed50-e4682fc72a87"
      },
      "execution_count": null,
      "outputs": [
        {
          "output_type": "execute_result",
          "data": {
            "text/plain": [
              "89095160"
            ]
          },
          "metadata": {},
          "execution_count": 79
        }
      ]
    },
    {
      "cell_type": "markdown",
      "source": [
        "# Advance Indexing"
      ],
      "metadata": {
        "id": "w-fayxXf90NH"
      }
    },
    {
      "cell_type": "code",
      "source": [
        "# normal indexing & scilicing\n",
        "a=np.arange(12).reshape(4,3)\n",
        "a"
      ],
      "metadata": {
        "colab": {
          "base_uri": "https://localhost:8080/"
        },
        "id": "J7LHY1HE94WN",
        "outputId": "9d832d88-e3ff-4328-b4cc-4c13ac83714a"
      },
      "execution_count": null,
      "outputs": [
        {
          "output_type": "execute_result",
          "data": {
            "text/plain": [
              "array([[ 0,  1,  2],\n",
              "       [ 3,  4,  5],\n",
              "       [ 6,  7,  8],\n",
              "       [ 9, 10, 11]])"
            ]
          },
          "metadata": {},
          "execution_count": 80
        }
      ]
    },
    {
      "cell_type": "code",
      "source": [
        "# fetch 5 from a\n",
        "a[1,2]"
      ],
      "metadata": {
        "colab": {
          "base_uri": "https://localhost:8080/"
        },
        "id": "rXpBBd0d-Ifc",
        "outputId": "0f88a0cb-50e6-4ba0-8a4f-659b4b6b0b33"
      },
      "execution_count": null,
      "outputs": [
        {
          "output_type": "execute_result",
          "data": {
            "text/plain": [
              "5"
            ]
          },
          "metadata": {},
          "execution_count": 81
        }
      ]
    },
    {
      "cell_type": "code",
      "source": [
        "# fancing indexing\n",
        "a[[0,2,3]]"
      ],
      "metadata": {
        "colab": {
          "base_uri": "https://localhost:8080/"
        },
        "id": "j4NAY4wWVmut",
        "outputId": "44c4c1ba-e79d-4e81-9c8f-540ec2e86c7c"
      },
      "execution_count": null,
      "outputs": [
        {
          "output_type": "execute_result",
          "data": {
            "text/plain": [
              "array([[ 0,  1,  2],\n",
              "       [ 6,  7,  8],\n",
              "       [ 9, 10, 11]])"
            ]
          },
          "metadata": {},
          "execution_count": 82
        }
      ]
    },
    {
      "cell_type": "code",
      "source": [
        "a[:,[0,2]]"
      ],
      "metadata": {
        "colab": {
          "base_uri": "https://localhost:8080/"
        },
        "id": "jiPqsfViYJJG",
        "outputId": "fa79cdd4-6cc4-4018-f8ad-322aff577570"
      },
      "execution_count": null,
      "outputs": [
        {
          "output_type": "execute_result",
          "data": {
            "text/plain": [
              "array([[ 0,  2],\n",
              "       [ 3,  5],\n",
              "       [ 6,  8],\n",
              "       [ 9, 11]])"
            ]
          },
          "metadata": {},
          "execution_count": 83
        }
      ]
    },
    {
      "cell_type": "code",
      "source": [
        "#Boolean indexing\n",
        "a=np.random.randint(1,100,24).reshape(6,4)\n",
        "a"
      ],
      "metadata": {
        "colab": {
          "base_uri": "https://localhost:8080/"
        },
        "id": "bgmzDq_BY3d0",
        "outputId": "e86dbc0b-9876-4111-f63c-7218d08f49dd"
      },
      "execution_count": null,
      "outputs": [
        {
          "output_type": "execute_result",
          "data": {
            "text/plain": [
              "array([[24, 46, 96, 15],\n",
              "       [80, 88, 38,  6],\n",
              "       [47, 33, 69, 40],\n",
              "       [73, 30, 97, 10],\n",
              "       [36, 17, 10,  8],\n",
              "       [51, 27, 80, 51]])"
            ]
          },
          "metadata": {},
          "execution_count": 84
        }
      ]
    },
    {
      "cell_type": "code",
      "source": [
        "# find all no greater than 50\n",
        "a[a>50].shape"
      ],
      "metadata": {
        "colab": {
          "base_uri": "https://localhost:8080/"
        },
        "id": "11Jko6FNecWB",
        "outputId": "f8413c85-69eb-4c42-ea91-1e768439d189"
      },
      "execution_count": null,
      "outputs": [
        {
          "output_type": "execute_result",
          "data": {
            "text/plain": [
              "(9,)"
            ]
          },
          "metadata": {},
          "execution_count": 85
        }
      ]
    },
    {
      "cell_type": "code",
      "source": [
        "# find out even no\n",
        "a[a%2==0]"
      ],
      "metadata": {
        "colab": {
          "base_uri": "https://localhost:8080/"
        },
        "id": "fwl2V2PHfIbE",
        "outputId": "35e14777-eafa-4a63-ca44-3026a4026a94"
      },
      "execution_count": null,
      "outputs": [
        {
          "output_type": "execute_result",
          "data": {
            "text/plain": [
              "array([24, 46, 96, 80, 88, 38,  6, 40, 30, 10, 36, 10,  8, 80])"
            ]
          },
          "metadata": {},
          "execution_count": 86
        }
      ]
    },
    {
      "cell_type": "code",
      "source": [
        "# find all no which is not divisible by 7\n",
        "a[~(a%7==0)]"
      ],
      "metadata": {
        "colab": {
          "base_uri": "https://localhost:8080/"
        },
        "id": "VxaGe2Z8gCcM",
        "outputId": "38ed654b-d4e1-417b-d78a-0d28e0744883"
      },
      "execution_count": null,
      "outputs": [
        {
          "output_type": "execute_result",
          "data": {
            "text/plain": [
              "array([24, 46, 96, 15, 80, 88, 38,  6, 47, 33, 69, 40, 73, 30, 97, 10, 36,\n",
              "       17, 10,  8, 51, 27, 80, 51])"
            ]
          },
          "metadata": {},
          "execution_count": 87
        }
      ]
    },
    {
      "cell_type": "markdown",
      "source": [
        "## **Broadcasting**\n",
        "## Rule of Broadcasting\n",
        "### (1) make the two arrays have the same no of dim different, add new dim with size 1 to be the head of the array with the smaller dim.(2) make each dim of the two arrays the same size.\n",
        "**Example-** (3,2)-2d,(3,)-1d (u have to convert i-d array to 2d=now initiate with 1 & streach till match with 2d array now they convert in to two aaray(3,3)\n",
        "( if the size of each dim of the two arrays do not match dim with size one-1 streatch to the size of the other aaray **ex-** (3,3)-2d,(3,)-1d (now i d convert and streatch till not match with 2d array) (3,3),(1,3)-(2,3)-(3,3) now match with size (3,3)(3,3), now apply broadcasting\n",
        "in case size does not match like(3,2),(3,3) in case broadcasting dont happen\n",
        "-if there is a dim whose size is not 1 in either of two array ,it cant be broadcasting,**error** raised like(4,2),(4,3) in this shape not match also we cant streatch because their is not start with 1\n",
        "    "
      ],
      "metadata": {
        "id": "ZIbKjicl_z-Y"
      }
    },
    {
      "cell_type": "code",
      "source": [
        "a=np.arange(12).reshape(4,3)\n",
        "b=np.arange(3) # now its converted in (4,3) shape is now same -((3)-(1,3)-(2,3)-(3,3)-(4,3)) initiate with 1 & streatch till shape is does not match.\n",
        "print(a)\n",
        "print(b)\n",
        "print(a+b)"
      ],
      "metadata": {
        "colab": {
          "base_uri": "https://localhost:8080/"
        },
        "id": "R3r71wzaifTo",
        "outputId": "8f13ec87-25b5-4cb2-a8f9-b4bcb52e5550"
      },
      "execution_count": null,
      "outputs": [
        {
          "output_type": "stream",
          "name": "stdout",
          "text": [
            "[[ 0  1  2]\n",
            " [ 3  4  5]\n",
            " [ 6  7  8]\n",
            " [ 9 10 11]]\n",
            "[0 1 2]\n",
            "[[ 0  2  4]\n",
            " [ 3  5  7]\n",
            " [ 6  8 10]\n",
            " [ 9 11 13]]\n"
          ]
        }
      ]
    },
    {
      "cell_type": "code",
      "source": [
        "# Working with mathematical formulas:\n",
        "a=np.arange(10)\n",
        "np.sin(a)"
      ],
      "metadata": {
        "colab": {
          "base_uri": "https://localhost:8080/"
        },
        "id": "bmZdi75lIf-S",
        "outputId": "7aa998b5-0983-4bd9-bcd9-22618c670ae8"
      },
      "execution_count": null,
      "outputs": [
        {
          "output_type": "execute_result",
          "data": {
            "text/plain": [
              "array([ 0.        ,  0.84147098,  0.90929743,  0.14112001, -0.7568025 ,\n",
              "       -0.95892427, -0.2794155 ,  0.6569866 ,  0.98935825,  0.41211849])"
            ]
          },
          "metadata": {},
          "execution_count": 89
        }
      ]
    },
    {
      "cell_type": "code",
      "source": [
        "# Sigmoid (1/(1+e^-x))\n",
        "def sigmoid(x):\n",
        "  return 1/((1+np.exp((-(x)))))\n",
        "a=np.array([1,2,3])\n",
        "# or u can use\n",
        "# a=np.arange(10)\n",
        "sigmoid(a)"
      ],
      "metadata": {
        "colab": {
          "base_uri": "https://localhost:8080/"
        },
        "id": "IZDauaRcJQ7v",
        "outputId": "5ecf9001-0dfa-41fc-f78d-eb98084dd949"
      },
      "execution_count": null,
      "outputs": [
        {
          "output_type": "execute_result",
          "data": {
            "text/plain": [
              "array([0.73105858, 0.88079708, 0.95257413])"
            ]
          },
          "metadata": {},
          "execution_count": 90
        }
      ]
    },
    {
      "cell_type": "code",
      "source": [
        "# mean square error(mse)-[mse=1/n sumession of(yi-y^)^2]\n",
        "actual=np.random.randint(1,50,10)\n",
        "predicted=np.random.randint(1,50,10)\n",
        "print(actual)\n",
        "print(predicted)\n",
        "print(actual-predicted)\n",
        "print((actual-predicted)**2)\n",
        "print(((actual-predicted)**2)/2)"
      ],
      "metadata": {
        "colab": {
          "base_uri": "https://localhost:8080/"
        },
        "id": "x6LewD7iMvQX",
        "outputId": "0e858a0d-190c-44f7-9fa9-0250f2c60d75"
      },
      "execution_count": null,
      "outputs": [
        {
          "output_type": "stream",
          "name": "stdout",
          "text": [
            "[44 44  1 39 21 34 47 35 26  4]\n",
            "[19 47 19  9 18  5 29 38 20 31]\n",
            "[ 25  -3 -18  30   3  29  18  -3   6 -27]\n",
            "[625   9 324 900   9 841 324   9  36 729]\n",
            "[312.5   4.5 162.  450.    4.5 420.5 162.    4.5  18.  364.5]\n"
          ]
        }
      ]
    },
    {
      "cell_type": "code",
      "source": [
        "def mse(actual,predicted):\n",
        "  return np.mean((actual-predicted)**2)\n",
        "mse(actual,predicted)"
      ],
      "metadata": {
        "colab": {
          "base_uri": "https://localhost:8080/"
        },
        "id": "MpfORLQ3OLog",
        "outputId": "736aa1fb-5d8c-4a7b-fbb9-ea4aa3118743"
      },
      "execution_count": null,
      "outputs": [
        {
          "output_type": "execute_result",
          "data": {
            "text/plain": [
              "380.6"
            ]
          },
          "metadata": {},
          "execution_count": 92
        }
      ]
    },
    {
      "cell_type": "code",
      "source": [
        "# working with missing value - np.nan\n",
        "a=np.array([1,2,3,np.nan,4,5,np.nan])\n",
        "a\n",
        "a[np.isnan(a)].shape\n",
        "a[~np.isnan(a)]"
      ],
      "metadata": {
        "colab": {
          "base_uri": "https://localhost:8080/"
        },
        "id": "vWf-S6GyPmjv",
        "outputId": "8ca58b3e-e11f-4129-aa64-d410c9784a3f"
      },
      "execution_count": null,
      "outputs": [
        {
          "output_type": "execute_result",
          "data": {
            "text/plain": [
              "array([1., 2., 3., 4., 5.])"
            ]
          },
          "metadata": {},
          "execution_count": 93
        }
      ]
    },
    {
      "cell_type": "markdown",
      "source": [
        "#** Plotting Graph**"
      ],
      "metadata": {
        "id": "9O951Un7SCQM"
      }
    },
    {
      "cell_type": "code",
      "source": [
        "# plotting 2d plot\n",
        "# x==y\n",
        "import matplotlib.pyplot as plt\n",
        "x=np.linspace(-10,10,20)\n",
        "y=x\n",
        "plt.plot(x,y)"
      ],
      "metadata": {
        "colab": {
          "base_uri": "https://localhost:8080/",
          "height": 447
        },
        "id": "1uMN14iJR-Sc",
        "outputId": "2252f36f-ef82-413e-f2d9-2a8fd0ae03bc"
      },
      "execution_count": null,
      "outputs": [
        {
          "output_type": "execute_result",
          "data": {
            "text/plain": [
              "[<matplotlib.lines.Line2D at 0x7f980cc31990>]"
            ]
          },
          "metadata": {},
          "execution_count": 94
        },
        {
          "output_type": "display_data",
          "data": {
            "text/plain": [
              "<Figure size 640x480 with 1 Axes>"
            ],
            "image/png": "[encoded data removed]"
          },
          "metadata": {}
        }
      ]
    },
    {
      "cell_type": "code",
      "source": [
        "# y=x^2(parabola)\n",
        "# import matplotlib.pyplot as plt\n",
        "x=np.linspace(-5,5,20)\n",
        "y=x**2\n",
        "plt.plot(x,y)"
      ],
      "metadata": {
        "colab": {
          "base_uri": "https://localhost:8080/",
          "height": 447
        },
        "id": "-7uwZ--rTYGJ",
        "outputId": "ca4790fd-86fb-45fd-d34d-7476987901a3"
      },
      "execution_count": null,
      "outputs": [
        {
          "output_type": "execute_result",
          "data": {
            "text/plain": [
              "[<matplotlib.lines.Line2D at 0x7f980cb4bf90>]"
            ]
          },
          "metadata": {},
          "execution_count": 95
        },
        {
          "output_type": "display_data",
          "data": {
            "text/plain": [
              "<Figure size 640x480 with 1 Axes>"
            ],
            "image/png": "[encoded data removed]"
          },
          "metadata": {}
        }
      ]
    },
    {
      "cell_type": "code",
      "source": [
        "#sigmoid\n",
        "x=np.linspace(-5,5,20)\n",
        "# def sigmoid(x):/\n",
        "y=1/(1+np.exp(-x))\n",
        "plt.plot(x,y)"
      ],
      "metadata": {
        "colab": {
          "base_uri": "https://localhost:8080/",
          "height": 447
        },
        "id": "8z4LPzoLUoUz",
        "outputId": "51d0ada8-2260-4445-9c6f-fb7f4d9b4b4f"
      },
      "execution_count": null,
      "outputs": [
        {
          "output_type": "execute_result",
          "data": {
            "text/plain": [
              "[<matplotlib.lines.Line2D at 0x7f980c586c90>]"
            ]
          },
          "metadata": {},
          "execution_count": 96
        },
        {
          "output_type": "display_data",
          "data": {
            "text/plain": [
              "<Figure size 640x480 with 1 Axes>"
            ],
            "image/png": "[encoded data removed]"
          },
          "metadata": {}
        }
      ]
    },
    {
      "cell_type": "code",
      "source": [
        "# y= xlogx\n",
        "x=np.linspace(-5,5,20)\n",
        "y=x*np.log(x)\n",
        "plt.plot(x,y)"
      ],
      "metadata": {
        "colab": {
          "base_uri": "https://localhost:8080/",
          "height": 482
        },
        "id": "MnjfOJCYVVzv",
        "outputId": "df7045a0-12f3-4616-a9e4-cfddb76c9f75"
      },
      "execution_count": null,
      "outputs": [
        {
          "output_type": "stream",
          "name": "stderr",
          "text": [
            "<ipython-input-97-2f3cbda92aa2>:3: RuntimeWarning: invalid value encountered in log\n",
            "  y=x*np.log(x)\n"
          ]
        },
        {
          "output_type": "execute_result",
          "data": {
            "text/plain": [
              "[<matplotlib.lines.Line2D at 0x7f980c4e1490>]"
            ]
          },
          "metadata": {},
          "execution_count": 97
        },
        {
          "output_type": "display_data",
          "data": {
            "text/plain": [
              "<Figure size 640x480 with 1 Axes>"
            ],
            "image/png": "[encoded data removed]"
          },
          "metadata": {}
        }
      ]
    },
    {
      "cell_type": "code",
      "source": [
        "# y=sinx\n",
        "x=np.linspace(-10,10,200)\n",
        "y=np.sin(x)\n",
        "plt.plot(x,y)"
      ],
      "metadata": {
        "colab": {
          "base_uri": "https://localhost:8080/",
          "height": 447
        },
        "id": "uNJe2iq6V-xS",
        "outputId": "711d2185-3c7a-4f47-e4f1-3265ae233fbe"
      },
      "execution_count": null,
      "outputs": [
        {
          "output_type": "execute_result",
          "data": {
            "text/plain": [
              "[<matplotlib.lines.Line2D at 0x7f97cd606990>]"
            ]
          },
          "metadata": {},
          "execution_count": 98
        },
        {
          "output_type": "display_data",
          "data": {
            "text/plain": [
              "<Figure size 640x480 with 1 Axes>"
            ],
            "image/png": "[encoded data removed]"
          },
          "metadata": {}
        }
      ]
    },
    {
      "cell_type": "code",
      "source": [
        "# y=cosx\n",
        "x=np.linspace(-10,10,200)\n",
        "y=np.cos(x)\n",
        "plt.plot(x,y)"
      ],
      "metadata": {
        "colab": {
          "base_uri": "https://localhost:8080/",
          "height": 447
        },
        "id": "MR_9U5DrWwN6",
        "outputId": "5abb0063-ede5-49e7-d62f-55b454997feb"
      },
      "execution_count": null,
      "outputs": [
        {
          "output_type": "execute_result",
          "data": {
            "text/plain": [
              "[<matplotlib.lines.Line2D at 0x7f97cd69e990>]"
            ]
          },
          "metadata": {},
          "execution_count": 99
        },
        {
          "output_type": "display_data",
          "data": {
            "text/plain": [
              "<Figure size 640x480 with 1 Axes>"
            ],
            "image/png": "[encoded data removed]"
          },
          "metadata": {}
        }
      ]
    },
    {
      "cell_type": "code",
      "source": [
        "#np.sort\n",
        "a=np.random.randint(1,100,24).reshape(2,12)\n",
        "a\n",
        "np.sort(a)\n",
        "np.sort(b,axis=0)\n",
        "np.sort(a)[::-1]"
      ],
      "metadata": {
        "colab": {
          "base_uri": "https://localhost:8080/"
        },
        "id": "EDtBWNMiXsMt",
        "outputId": "6aaddf15-498e-48a1-c711-2c9c14f8401d"
      },
      "execution_count": null,
      "outputs": [
        {
          "output_type": "execute_result",
          "data": {
            "text/plain": [
              "array([[ 8, 16, 20, 22, 30, 33, 36, 57, 74, 79, 87, 89],\n",
              "       [ 8, 18, 21, 37, 43, 54, 58, 66, 67, 81, 82, 89]])"
            ]
          },
          "metadata": {},
          "execution_count": 100
        }
      ]
    },
    {
      "cell_type": "code",
      "source": [
        "# append\n",
        "np.append(a,200)\n",
        "np.concatenate  #( working as hstak and vstack)\n",
        "c=np.arange(6).reshape(2,3)\n",
        "d=np.arange(6,12).reshape(2,3)\n",
        "print(c)\n",
        "print(d)\n",
        "np.concatenate((c,d),axis=0) # verical concatinate\n",
        "np.concatenate((c,d),axis=1)  # horizontally concatinate"
      ],
      "metadata": {
        "colab": {
          "base_uri": "https://localhost:8080/"
        },
        "id": "63-pD9i8bCw3",
        "outputId": "065fccc9-a23a-43fb-93b6-042e657be535"
      },
      "execution_count": null,
      "outputs": [
        {
          "output_type": "stream",
          "name": "stdout",
          "text": [
            "[[0 1 2]\n",
            " [3 4 5]]\n",
            "[[ 6  7  8]\n",
            " [ 9 10 11]]\n"
          ]
        },
        {
          "output_type": "execute_result",
          "data": {
            "text/plain": [
              "array([[ 0,  1,  2,  6,  7,  8],\n",
              "       [ 3,  4,  5,  9, 10, 11]])"
            ]
          },
          "metadata": {},
          "execution_count": 101
        }
      ]
    },
    {
      "cell_type": "code",
      "source": [
        "#np.unique\n",
        "f=np.array([1,1,2,2,7,3,3,4,6,5,4,6])\n",
        "[np.unique(f)]"
      ],
      "metadata": {
        "colab": {
          "base_uri": "https://localhost:8080/"
        },
        "id": "dFTB9xzzda3H",
        "outputId": "f85044d2-18d8-465e-e26c-99e921ed3006"
      },
      "execution_count": null,
      "outputs": [
        {
          "output_type": "execute_result",
          "data": {
            "text/plain": [
              "[array([1, 2, 3, 4, 5, 6, 7])]"
            ]
          },
          "metadata": {},
          "execution_count": 102
        }
      ]
    },
    {
      "cell_type": "code",
      "source": [
        "#np.where\n",
        "a=np.arange(12)\n",
        "a\n",
        "np.where(a>5)"
      ],
      "metadata": {
        "colab": {
          "base_uri": "https://localhost:8080/"
        },
        "id": "wZYHpWpGmYn1",
        "outputId": "2c68dc78-c731-4d33-a589-619bdeb503e6"
      },
      "execution_count": null,
      "outputs": [
        {
          "output_type": "execute_result",
          "data": {
            "text/plain": [
              "(array([ 6,  7,  8,  9, 10, 11]),)"
            ]
          },
          "metadata": {},
          "execution_count": 103
        }
      ]
    },
    {
      "cell_type": "code",
      "source": [
        "# Replace all value >5 with 0 & with '$$$' , '000'\n",
        "np.where(a>5,0,a)\n",
        "np.where(a>5,\"$$$\",a)\n",
        "np.where(a%2==0,\"000\",a)"
      ],
      "metadata": {
        "colab": {
          "base_uri": "https://localhost:8080/"
        },
        "id": "T7JY4aFunEre",
        "outputId": "5db9b74f-8080-421f-c4b3-33534b368ed8"
      },
      "execution_count": null,
      "outputs": [
        {
          "output_type": "execute_result",
          "data": {
            "text/plain": [
              "array(['000', '1', '000', '3', '000', '5', '000', '7', '000', '9', '000',\n",
              "       '11'], dtype='<U21')"
            ]
          },
          "metadata": {},
          "execution_count": 104
        }
      ]
    },
    {
      "cell_type": "code",
      "source": [
        "# argmax,argmin (return index in particular axis in 2d,3d)\n",
        "a\n",
        "np.argmax(a)\n",
        "a2\n",
        "# np.argmax(a2,axis=0) # in 2d (a2)max value in every col is index 2\n",
        "# np.argmin(2)"
      ],
      "metadata": {
        "colab": {
          "base_uri": "https://localhost:8080/"
        },
        "id": "6mgmcU4HoAfZ",
        "outputId": "a36468a8-3a19-43a2-e14a-ad214143787f"
      },
      "execution_count": null,
      "outputs": [
        {
          "output_type": "execute_result",
          "data": {
            "text/plain": [
              "array([[ 0,  1,  2,  3],\n",
              "       [ 4,  5,  6,  7],\n",
              "       [ 8,  9, 10, 11]])"
            ]
          },
          "metadata": {},
          "execution_count": 105
        }
      ]
    },
    {
      "cell_type": "code",
      "source": [
        "# np.cumsum\n",
        "np.cumsum(a2,axis=0)\n",
        "np.cumsum(a2,axis=1)"
      ],
      "metadata": {
        "colab": {
          "base_uri": "https://localhost:8080/"
        },
        "id": "Zm2ao2GSo-bH",
        "outputId": "f234fc6e-5f55-479c-b67a-3c1722716ff0"
      },
      "execution_count": null,
      "outputs": [
        {
          "output_type": "execute_result",
          "data": {
            "text/plain": [
              "array([[ 0,  1,  3,  6],\n",
              "       [ 4,  9, 15, 22],\n",
              "       [ 8, 17, 27, 38]])"
            ]
          },
          "metadata": {},
          "execution_count": 106
        }
      ]
    },
    {
      "cell_type": "code",
      "source": [
        "np.cumprod(a2,axis=0)"
      ],
      "metadata": {
        "colab": {
          "base_uri": "https://localhost:8080/"
        },
        "id": "gqGs4r_Ip5yi",
        "outputId": "342c272c-578e-4292-b113-492db5b44bdd"
      },
      "execution_count": null,
      "outputs": [
        {
          "output_type": "execute_result",
          "data": {
            "text/plain": [
              "array([[  0,   1,   2,   3],\n",
              "       [  0,   5,  12,  21],\n",
              "       [  0,  45, 120, 231]])"
            ]
          },
          "metadata": {},
          "execution_count": 107
        }
      ]
    },
    {
      "cell_type": "code",
      "source": [
        "#percentile\n",
        "a\n",
        "np.percentile(a,100) # max\n",
        "np.percentile(a,0)   # min\n",
        "np.percentile(a,50)  # median"
      ],
      "metadata": {
        "colab": {
          "base_uri": "https://localhost:8080/"
        },
        "id": "Ev1BeDdeyL3S",
        "outputId": "c464a4f0-dc7d-43ed-bcd1-90727f757150"
      },
      "execution_count": null,
      "outputs": [
        {
          "output_type": "execute_result",
          "data": {
            "text/plain": [
              "5.5"
            ]
          },
          "metadata": {},
          "execution_count": 108
        }
      ]
    },
    {
      "cell_type": "code",
      "source": [
        "#np.histogram\n",
        "a=np.random.randint(12,24)\n",
        "a\n",
        "np.histogram(a,bins=[12,20,30])"
      ],
      "metadata": {
        "colab": {
          "base_uri": "https://localhost:8080/"
        },
        "id": "uFtmTo14zOuh",
        "outputId": "f8d53fe1-ab83-4b5f-855d-9412aafc954f"
      },
      "execution_count": null,
      "outputs": [
        {
          "output_type": "execute_result",
          "data": {
            "text/plain": [
              "(array([1, 0]), array([12, 20, 30]))"
            ]
          },
          "metadata": {},
          "execution_count": 109
        }
      ]
    },
    {
      "cell_type": "code",
      "source": [
        "# np.corrcoef\n",
        "salary=np.array([200.400,600,800])\n",
        "experience=np.array([1,3,2])\n",
        "np.corrcoef(salary,experience)"
      ],
      "metadata": {
        "colab": {
          "base_uri": "https://localhost:8080/"
        },
        "id": "lqlQXyOV0NCi",
        "outputId": "fef952d5-60e2-4a8a-d686-71c304070180"
      },
      "execution_count": null,
      "outputs": [
        {
          "output_type": "execute_result",
          "data": {
            "text/plain": [
              "array([[1.        , 0.65446647],\n",
              "       [0.65446647, 1.        ]])"
            ]
          },
          "metadata": {},
          "execution_count": 110
        }
      ]
    },
    {
      "cell_type": "code",
      "source": [
        "#np.isin\n",
        "a=np.arange(11,50)\n",
        "a\n",
        "items=[90,70,50,83,45,20,23,43,30,12,15]\n",
        "a[np.isin(a,items)]"
      ],
      "metadata": {
        "colab": {
          "base_uri": "https://localhost:8080/"
        },
        "id": "kkBLK79s2VEO",
        "outputId": "16976d7f-b391-45bb-bc12-80f68b1143ff"
      },
      "execution_count": null,
      "outputs": [
        {
          "output_type": "execute_result",
          "data": {
            "text/plain": [
              "array([12, 15, 20, 23, 30, 43, 45])"
            ]
          },
          "metadata": {},
          "execution_count": 111
        }
      ]
    },
    {
      "cell_type": "code",
      "source": [
        "# np.flip  (reverse the order but shape r remain same)\n",
        "a\n",
        "np.flip(a)"
      ],
      "metadata": {
        "colab": {
          "base_uri": "https://localhost:8080/"
        },
        "id": "UEUM2Isc3FHz",
        "outputId": "08e34da8-a5cd-48a0-cd53-08927cbd889b"
      },
      "execution_count": null,
      "outputs": [
        {
          "output_type": "execute_result",
          "data": {
            "text/plain": [
              "array([49, 48, 47, 46, 45, 44, 43, 42, 41, 40, 39, 38, 37, 36, 35, 34, 33,\n",
              "       32, 31, 30, 29, 28, 27, 26, 25, 24, 23, 22, 21, 20, 19, 18, 17, 16,\n",
              "       15, 14, 13, 12, 11])"
            ]
          },
          "metadata": {},
          "execution_count": 112
        }
      ]
    },
    {
      "cell_type": "code",
      "source": [
        "#np.put (editting in array (index position)).\n",
        "a\n",
        "np.put(a,[0,1],[999,888])\n",
        "a"
      ],
      "metadata": {
        "colab": {
          "base_uri": "https://localhost:8080/"
        },
        "id": "DLnYK6sg3e_p",
        "outputId": "bbd168cc-a37b-4e58-cd74-f54dc7d323b7"
      },
      "execution_count": null,
      "outputs": [
        {
          "output_type": "execute_result",
          "data": {
            "text/plain": [
              "array([999, 888,  13,  14,  15,  16,  17,  18,  19,  20,  21,  22,  23,\n",
              "        24,  25,  26,  27,  28,  29,  30,  31,  32,  33,  34,  35,  36,\n",
              "        37,  38,  39,  40,  41,  42,  43,  44,  45,  46,  47,  48,  49])"
            ]
          },
          "metadata": {},
          "execution_count": 113
        }
      ]
    },
    {
      "cell_type": "code",
      "source": [
        "#np.delete\n",
        "a\n",
        "np.delete(a,[0,1])"
      ],
      "metadata": {
        "colab": {
          "base_uri": "https://localhost:8080/"
        },
        "id": "utU9c8fg42hu",
        "outputId": "dd0d8c41-3940-4f55-c41d-746967943fbc"
      },
      "execution_count": null,
      "outputs": [
        {
          "output_type": "execute_result",
          "data": {
            "text/plain": [
              "array([13, 14, 15, 16, 17, 18, 19, 20, 21, 22, 23, 24, 25, 26, 27, 28, 29,\n",
              "       30, 31, 32, 33, 34, 35, 36, 37, 38, 39, 40, 41, 42, 43, 44, 45, 46,\n",
              "       47, 48, 49])"
            ]
          },
          "metadata": {},
          "execution_count": 114
        }
      ]
    },
    {
      "cell_type": "markdown",
      "source": [
        "# Set Function"
      ],
      "metadata": {
        "id": "X1p-SMQV5MrI"
      }
    },
    {
      "cell_type": "code",
      "source": [
        "n=np.array([1,2,3,4,5])\n",
        "m=np.array([3,4,5,6,7])\n",
        "#np.union1d\n",
        "np.union1d(m,n)\n",
        "#np.interset1d\n",
        "np.intersect1d(m,n)"
      ],
      "metadata": {
        "colab": {
          "base_uri": "https://localhost:8080/"
        },
        "id": "tIgzt5M95LFk",
        "outputId": "69954526-c0b0-47ee-fa87-6cc83fb5033b"
      },
      "execution_count": null,
      "outputs": [
        {
          "output_type": "execute_result",
          "data": {
            "text/plain": [
              "array([3, 4, 5])"
            ]
          },
          "metadata": {},
          "execution_count": 115
        }
      ]
    },
    {
      "cell_type": "code",
      "source": [
        "#np.setdiff1d\n",
        "np.setdiff1d(m,n)"
      ],
      "metadata": {
        "colab": {
          "base_uri": "https://localhost:8080/"
        },
        "id": "zQlZPWY85zvz",
        "outputId": "a6eacffa-8938-4075-e8b8-8e07e9843e0c"
      },
      "execution_count": null,
      "outputs": [
        {
          "output_type": "execute_result",
          "data": {
            "text/plain": [
              "array([6, 7])"
            ]
          },
          "metadata": {},
          "execution_count": 116
        }
      ]
    },
    {
      "cell_type": "code",
      "source": [
        "#np.setxor1d  (remove the common element)\n",
        "np.setxor1d(m,n)"
      ],
      "metadata": {
        "id": "NAeq1VeM5-iJ",
        "colab": {
          "base_uri": "https://localhost:8080/"
        },
        "outputId": "e805b838-3d8c-4e39-8581-19ef6970a030"
      },
      "execution_count": null,
      "outputs": [
        {
          "output_type": "execute_result",
          "data": {
            "text/plain": [
              "array([1, 2, 6, 7])"
            ]
          },
          "metadata": {},
          "execution_count": 117
        }
      ]
    },
    {
      "cell_type": "code",
      "source": [
        "#np.in1d (tells this value is in in the set or not)\n",
        "np.in1d(m,1)"
      ],
      "metadata": {
        "id": "KmShM0k_6i9x",
        "colab": {
          "base_uri": "https://localhost:8080/"
        },
        "outputId": "b3cab841-5507-4309-cd0c-7ab9fb202c06"
      },
      "execution_count": null,
      "outputs": [
        {
          "output_type": "execute_result",
          "data": {
            "text/plain": [
              "array([False, False, False, False, False])"
            ]
          },
          "metadata": {},
          "execution_count": 118
        }
      ]
    },
    {
      "cell_type": "code",
      "source": [
        "#np.clip (keeps value in range)\n",
        "a\n",
        "np.clip(a,a_min=15,a_max=50)"
      ],
      "metadata": {
        "id": "5_51Qy1964IL",
        "colab": {
          "base_uri": "https://localhost:8080/"
        },
        "outputId": "b6ebb63b-8227-48be-8eb0-09d4260176fa"
      },
      "execution_count": null,
      "outputs": [
        {
          "output_type": "execute_result",
          "data": {
            "text/plain": [
              "array([15, 20, 30, 40, 50, 50])"
            ]
          },
          "metadata": {},
          "execution_count": 129
        }
      ]
    },
    {
      "cell_type": "code",
      "source": [
        "a"
      ],
      "metadata": {
        "id": "fU754LAnAYc5",
        "colab": {
          "base_uri": "https://localhost:8080/"
        },
        "outputId": "af0428dc-8282-4040-b262-a58af5806c9c"
      },
      "execution_count": null,
      "outputs": [
        {
          "output_type": "execute_result",
          "data": {
            "text/plain": [
              "array([10, 20, 30, 40, 50, 60])"
            ]
          },
          "metadata": {},
          "execution_count": 130
        }
      ]
    }
  ]
}